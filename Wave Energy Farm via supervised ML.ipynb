{
 "cells": [
  {
   "cell_type": "markdown",
   "id": "5da93879-c4d9-4c9a-8d6d-83dd3cee7b42",
   "metadata": {},
   "source": [
    "# Wave Energy Farm via supervised ML\n",
    "\n",
    "\n",
    "data source: https://archive.ics.uci.edu/dataset/882/large-scale+wave+energy+farm"
   ]
  },
  {
   "cell_type": "code",
   "execution_count": null,
   "id": "c8d4f522-6b3c-4539-a1b8-1cbf1d069766",
   "metadata": {},
   "outputs": [],
   "source": []
  },
  {
   "cell_type": "code",
   "execution_count": null,
   "id": "fc4d9e95-b14f-4760-9f15-3cab18e43d01",
   "metadata": {},
   "outputs": [],
   "source": []
  },
  {
   "cell_type": "code",
   "execution_count": null,
   "id": "49b4fb3c-7430-4b8f-95b2-d21e98bc4499",
   "metadata": {},
   "outputs": [],
   "source": []
  },
  {
   "cell_type": "code",
   "execution_count": null,
   "id": "ac3942c5-7ce2-4e74-bbc9-336eb0c2580f",
   "metadata": {},
   "outputs": [],
   "source": []
  },
  {
   "cell_type": "code",
   "execution_count": null,
   "id": "a1b30b2e-753d-4215-a6e6-aff872ef47cb",
   "metadata": {},
   "outputs": [],
   "source": []
  },
  {
   "cell_type": "code",
   "execution_count": null,
   "id": "cb53c130-ca0a-4e77-980e-594467fbc0fc",
   "metadata": {},
   "outputs": [],
   "source": []
  },
  {
   "cell_type": "code",
   "execution_count": null,
   "id": "4d6fd32e-90ed-4d0a-a467-ce381e6fb870",
   "metadata": {},
   "outputs": [],
   "source": []
  },
  {
   "cell_type": "code",
   "execution_count": null,
   "id": "1e2e44b9-874d-490b-9565-653fe0dce03a",
   "metadata": {},
   "outputs": [],
   "source": []
  },
  {
   "cell_type": "code",
   "execution_count": null,
   "id": "7e2cfd2b-8ab4-469a-b543-6fd0f1350d0b",
   "metadata": {},
   "outputs": [],
   "source": []
  },
  {
   "cell_type": "code",
   "execution_count": null,
   "id": "1be97e05-f3d1-424b-8aca-73f4ad553da0",
   "metadata": {},
   "outputs": [],
   "source": []
  },
  {
   "cell_type": "code",
   "execution_count": null,
   "id": "541ac165-eb3d-47ab-9842-ab11eef86274",
   "metadata": {},
   "outputs": [],
   "source": []
  },
  {
   "cell_type": "code",
   "execution_count": null,
   "id": "6c772e25-c87f-4d0f-ab45-bcd04134b300",
   "metadata": {},
   "outputs": [],
   "source": []
  },
  {
   "cell_type": "code",
   "execution_count": null,
   "id": "576e62dd-a1b0-4081-81d0-1ba7829ec99e",
   "metadata": {},
   "outputs": [],
   "source": []
  },
  {
   "cell_type": "code",
   "execution_count": null,
   "id": "48d8e96e-42f0-4f71-9de2-0a80b699d28d",
   "metadata": {},
   "outputs": [],
   "source": []
  },
  {
   "cell_type": "code",
   "execution_count": null,
   "id": "0a0adfd2-104d-4841-ac4c-004195df2d9b",
   "metadata": {},
   "outputs": [],
   "source": []
  },
  {
   "cell_type": "code",
   "execution_count": null,
   "id": "714d8810-87fe-4ae9-97e0-63f91678b819",
   "metadata": {},
   "outputs": [],
   "source": []
  },
  {
   "cell_type": "code",
   "execution_count": null,
   "id": "38bac4f9-5e61-43ed-8ef4-101825a09752",
   "metadata": {},
   "outputs": [],
   "source": []
  }
 ],
 "metadata": {
  "kernelspec": {
   "display_name": "Python 3 (ipykernel)",
   "language": "python",
   "name": "python3"
  },
  "language_info": {
   "codemirror_mode": {
    "name": "ipython",
    "version": 3
   },
   "file_extension": ".py",
   "mimetype": "text/x-python",
   "name": "python",
   "nbconvert_exporter": "python",
   "pygments_lexer": "ipython3",
   "version": "3.12.4"
  }
 },
 "nbformat": 4,
 "nbformat_minor": 5
}
